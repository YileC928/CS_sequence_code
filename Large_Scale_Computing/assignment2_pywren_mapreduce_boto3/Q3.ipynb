{
 "cells": [
  {
   "cell_type": "code",
   "execution_count": 32,
   "id": "silver-interface",
   "metadata": {},
   "outputs": [],
   "source": [
    "import boto3\n",
    "import time\n",
    "\n",
    "session = boto3.Session()\n",
    "\n",
    "kinesis = session.client('kinesis')\n",
    "ec2 = session.resource('ec2')\n",
    "ec2_client = session.client('ec2')"
   ]
  },
  {
   "cell_type": "code",
   "execution_count": 33,
   "id": "unique-theater",
   "metadata": {},
   "outputs": [],
   "source": [
    "response = kinesis.create_stream(StreamName = 'test_stream',\n",
    "                                 ShardCount = 1\n",
    "                                )\n",
    "\n",
    "# Is the stream active and ready to be written to/read from? Wait until it exists before moving on:\n",
    "waiter = kinesis.get_waiter('stream_exists')\n",
    "waiter.wait(StreamName='test_stream')"
   ]
  },
  {
   "cell_type": "code",
   "execution_count": 34,
   "id": "differential-energy",
   "metadata": {},
   "outputs": [],
   "source": [
    "instances = ec2.create_instances(ImageId='ami-0915e09cc7ceee3ab',\n",
    "                                 MinCount=1,\n",
    "                                 MaxCount=2,\n",
    "                                 InstanceType='t2.micro',\n",
    "                                 KeyName='YileC',\n",
    "                                 SecurityGroupIds=['sg-09db00853c375ee8c'],\n",
    "                                 SecurityGroups=['Q3'],\n",
    "                                 IamInstanceProfile=\n",
    "                                     {'Name': 'EMR_EC2_DefaultRole'},\n",
    "                                )\n",
    "\n",
    "# Wait until EC2 instances are running before moving on\n",
    "waiter = ec2_client.get_waiter('instance_running')\n",
    "waiter.wait(InstanceIds=[instance.id for instance in instances])"
   ]
  },
  {
   "cell_type": "code",
   "execution_count": 35,
   "id": "following-brown",
   "metadata": {},
   "outputs": [],
   "source": [
    "#create an sns topic and subscribe\n",
    "sns = boto3.client('sns', region_name='us-east-1')\n",
    "response = sns.create_topic(Name = 'Price_Alert')\n",
    "topic_arn = response['TopicArn']\n",
    "response1 = sns.subscribe(TopicArn=topic_arn, Protocol = 'email', \n",
    "                          Endpoint = 'yilec@uchicago.edu')"
   ]
  },
  {
   "cell_type": "code",
   "execution_count": 49,
   "id": "engaging-coaching",
   "metadata": {},
   "outputs": [
    {
     "data": {
      "text/plain": [
       "'arn:aws:sns:us-east-1:698849050473:Price_Alert'"
      ]
     },
     "execution_count": 49,
     "metadata": {},
     "output_type": "execute_result"
    }
   ],
   "source": [
    "#check the topic_arn\n",
    "topic_arn"
   ]
  },
  {
   "cell_type": "code",
   "execution_count": 36,
   "id": "satisfied-mountain",
   "metadata": {},
   "outputs": [
    {
     "name": "stdout",
     "output_type": "stream",
     "text": [
      "Overwriting producer.py\n"
     ]
    }
   ],
   "source": [
    "%%file producer.py\n",
    "\n",
    "import boto3\n",
    "import random\n",
    "import datetime\n",
    "import json\n",
    "\n",
    "kinesis = boto3.client('kinesis', region_name='us-east-1')\n",
    "\n",
    "def getReferrer():\n",
    "    data = {}\n",
    "    now = datetime.datetime.now()\n",
    "    str_now = now.isoformat()\n",
    "    data['EVENT_TIME'] = str_now\n",
    "    data['TICKER'] = 'AAPL'\n",
    "    price = random.random() * 100 # Assume price is in USD\n",
    "    data['PRICE'] = round(price, 2)\n",
    "    return data\n",
    "\n",
    "while 1 == 1:\n",
    "    data = getReferrer()\n",
    "    kinesis.put_record(StreamName = \"test_stream\",\n",
    "                       Data = json.dumps(data),\n",
    "                       PartitionKey = \"partitionkey\"\n",
    "                      )"
   ]
  },
  {
   "cell_type": "code",
   "execution_count": 62,
   "id": "rocky-surgeon",
   "metadata": {},
   "outputs": [
    {
     "name": "stdout",
     "output_type": "stream",
     "text": [
      "Overwriting consumer.py\n"
     ]
    }
   ],
   "source": [
    "%%file consumer.py\n",
    "\n",
    "import boto3\n",
    "import random\n",
    "import datetime\n",
    "import json\n",
    "import time\n",
    "\n",
    "sns = boto3.client('sns', region_name='us-east-1')\n",
    "kinesis = boto3.client('kinesis', region_name='us-east-1')\n",
    "\n",
    "shard_it = kinesis.get_shard_iterator(StreamName = \"test_stream\",\n",
    "                                     ShardId = 'shardId-000000000000',\n",
    "                                     ShardIteratorType = 'LATEST'\n",
    "                                     )[\"ShardIterator\"]\n",
    "\n",
    "\n",
    "while 1==1:\n",
    "    out = kinesis.get_records(ShardIterator = shard_it,\n",
    "                              Limit = 1)\n",
    "    o = out['Records'][0]\n",
    "    jdat = json.loads(o['Data'])\n",
    "    price = jdat['PRICE']\n",
    "    event_time = jdat['EVENT_TIME']\n",
    "        \n",
    "    print(\"Price: \", price)\n",
    "    print(\"Time:\", event_time)\n",
    "    print(\"\\n\")\n",
    "    \n",
    "    #####For Question 3b####\n",
    "    if price < 3:\n",
    "        response = sns.publish(TopicArn = 'arn:aws:sns:us-east-1:698849050473:Price_Alert',\n",
    "                               Message = 'Current Price: {Price}, Current Time: {Time}'.format(Price=price, Time=event_time),\n",
    "                               Subject = 'Price Alert')\n",
    "                \n",
    "        break\n",
    "    #######################    \n",
    "    \n",
    "    \n",
    "    shard_it = out['NextShardIterator']\n",
    "    time.sleep(0.2)"
   ]
  },
  {
   "cell_type": "code",
   "execution_count": 63,
   "id": "ideal-transsexual",
   "metadata": {},
   "outputs": [],
   "source": [
    "instance_dns = [instance.public_dns_name \n",
    "                 for instance in ec2.instances.all() \n",
    "                 if instance.state['Name'] == 'running'\n",
    "               ]\n",
    "\n",
    "code = ['producer.py', 'consumer.py']"
   ]
  },
  {
   "cell_type": "code",
   "execution_count": 64,
   "id": "wireless-motion",
   "metadata": {},
   "outputs": [
    {
     "name": "stdout",
     "output_type": "stream",
     "text": [
      "Producer Instance is Running producer.py\n",
      ".........................................\n",
      "Connect to Consumer Instance by running: ssh -i \"YileC.pem\" ec2-user@ec2-52-72-230-251.compute-1.amazonaws.com\n"
     ]
    }
   ],
   "source": [
    "import paramiko\n",
    "from scp import SCPClient\n",
    "ssh_producer, ssh_consumer = paramiko.SSHClient(), paramiko.SSHClient()\n",
    "\n",
    "# Initialization of SSH tunnels takes a bit of time; otherwise get connection error on first attempt\n",
    "time.sleep(5)\n",
    "\n",
    "# Install boto3 on each EC2 instance and Copy our producer/consumer code onto producer/consumer EC2 instances\n",
    "instance = 0\n",
    "stdin, stdout, stderr = [[None, None] for i in range(3)]\n",
    "for ssh in [ssh_producer, ssh_consumer]:\n",
    "    ssh.set_missing_host_key_policy(paramiko.AutoAddPolicy())\n",
    "    ssh.connect(instance_dns[instance],\n",
    "                username = 'ec2-user',\n",
    "                key_filename='/Users/miao/Desktop/YileC.pem')\n",
    "    \n",
    "    with SCPClient(ssh.get_transport()) as scp:\n",
    "        scp.put(code[instance])\n",
    "    \n",
    "    stdin[instance], stdout[instance], stderr[instance] = \\\n",
    "            ssh.exec_command(\"sudo pip install boto3\")\n",
    "    instance += 1\n",
    "\n",
    "\n",
    "# Block until Producer has installed boto3 and testdata, then start running Producer script:\n",
    "producer_exit_status = stdout[0].channel.recv_exit_status() \n",
    "if producer_exit_status == 0:\n",
    "    ssh_producer.exec_command(\"python %s\" % code[0])\n",
    "    print(\"Producer Instance is Running producer.py\\n.........................................\")\n",
    "else:\n",
    "    print(\"Error\", producer_exit_status)\n",
    "\n",
    "# Close ssh and show connection instructions for manual access to Consumer Instance\n",
    "ssh_consumer.close; ssh_producer.close()\n",
    "\n",
    "print(\"Connect to Consumer Instance by running: ssh -i \\\"YileC.pem\\\" ec2-user@%s\" % instance_dns[1])"
   ]
  },
  {
   "cell_type": "code",
   "execution_count": 65,
   "id": "manual-lounge",
   "metadata": {},
   "outputs": [
    {
     "name": "stdout",
     "output_type": "stream",
     "text": [
      "EC2 Instances Successfully Terminated\n",
      "Kinesis Stream Successfully Deleted\n"
     ]
    }
   ],
   "source": [
    "# Terminate EC2 Instances:\n",
    "ec2_client.terminate_instances(InstanceIds=[instance.id for instance in instances])\n",
    "\n",
    "# Confirm that EC2 instances were terminated:\n",
    "waiter = ec2_client.get_waiter('instance_terminated')\n",
    "waiter.wait(InstanceIds=[instance.id for instance in instances])\n",
    "print(\"EC2 Instances Successfully Terminated\")\n",
    "\n",
    "# Delete Kinesis Stream (if it currently exists):\n",
    "try:\n",
    "    response = kinesis.delete_stream(StreamName='test_stream')\n",
    "except kinesis.exceptions.ResourceNotFoundException:\n",
    "    pass\n",
    "\n",
    "# Confirm that Kinesis Stream was deleted:\n",
    "waiter = kinesis.get_waiter('stream_not_exists')\n",
    "waiter.wait(StreamName='test_stream')\n",
    "print(\"Kinesis Stream Successfully Deleted\")\n",
    "\n",
    "#Delete SNS topic\n",
    "sns.delete_topic(TopicArn=topic_arn)"
   ]
  },
  {
   "cell_type": "code",
   "execution_count": null,
   "id": "moderate-estonia",
   "metadata": {},
   "outputs": [],
   "source": []
  }
 ],
 "metadata": {
  "kernelspec": {
   "display_name": "Python 3",
   "language": "python",
   "name": "python3"
  },
  "language_info": {
   "codemirror_mode": {
    "name": "ipython",
    "version": 3
   },
   "file_extension": ".py",
   "mimetype": "text/x-python",
   "name": "python",
   "nbconvert_exporter": "python",
   "pygments_lexer": "ipython3",
   "version": "3.7.1"
  }
 },
 "nbformat": 4,
 "nbformat_minor": 5
}
