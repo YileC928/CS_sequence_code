{
 "cells": [
  {
   "cell_type": "code",
   "execution_count": 43,
   "id": "postal-declaration",
   "metadata": {},
   "outputs": [
    {
     "name": "stdout",
     "output_type": "stream",
     "text": [
      "Overwriting Q2.py\n"
     ]
    }
   ],
   "source": [
    "%%file Q2.py\n",
    "\n",
    "from mrjob.job import MRJob\n",
    "from mrjob.step import MRStep\n",
    "import dataset\n",
    "import re\n",
    "\n",
    "WORD_RE = re.compile(r\"[\\w']+\")\n",
    "\n",
    "\n",
    "class MRMostUsedWord(MRJob):\n",
    "\n",
    "    def mapper_get_words(self, _, desc):\n",
    "        for word in WORD_RE.findall(desc):\n",
    "            yield (word.lower(), 1)\n",
    "\n",
    "    def combiner_count_words(self, word, counts):\n",
    "        yield (word, sum(counts))\n",
    "\n",
    "    def reducer_count_words(self, word, counts):\n",
    "        yield None, (sum(counts), word)\n",
    "\n",
    "    def reducer_find_max_words(self, _, word_count_pairs):\n",
    "        max_10 = sorted(word_count_pairs)[-10:]\n",
    "        yield max_10, None\n",
    "\n",
    "\n",
    "    def steps(self):\n",
    "        return [\n",
    "            MRStep(mapper = self.mapper_get_words,\n",
    "                   combiner=self.combiner_count_words,\n",
    "                   reducer=self.reducer_count_words),\n",
    "            MRStep(reducer=self.reducer_find_max_words)\n",
    "        ]\n",
    "\n",
    "if __name__ == '__main__':\n",
    "    MRMostUsedWord.run()"
   ]
  },
  {
   "cell_type": "code",
   "execution_count": 35,
   "id": "still-brisbane",
   "metadata": {
    "scrolled": true
   },
   "outputs": [
    {
     "name": "stdout",
     "output_type": "stream",
     "text": [
      "                                                   0\n",
      "0  It's hard to imagine a world without A Light i...\n",
      "1  \"Erotic and absorbing...Written with starling ...\n",
      "2  Dans une France assez proche de la nôtre, un h...\n",
      "3  WICKED above her hipbone, GIRL across her hear...\n",
      "4  From a renowned historian comes a groundbreaki...\n"
     ]
    }
   ],
   "source": [
    "import dataset\n",
    "import pandas as pd\n",
    "\n",
    "db = dataset.connect('sqlite:///books.db')\n",
    "desc = pd.DataFrame([book['description'] for book in db['book_info']])\n",
    "print(desc.head())\n",
    "desc.to_csv('desc.tsv', sep = '\\t')"
   ]
  },
  {
   "cell_type": "code",
   "execution_count": 47,
   "id": "backed-enough",
   "metadata": {},
   "outputs": [
    {
     "name": "stdout",
     "output_type": "stream",
     "text": [
      "Using configs in /Users/miao/.mrjob.conf\n",
      "No configs specified for inline runner\n",
      "Creating temp directory /var/folders/zx/5c8_d0d54710lk5c5dvskks40000gn/T/Q2.miao.20210514.190652.061955\n",
      "Running step 1 of 2...\n",
      "Running step 2 of 2...\n",
      "job output is in /var/folders/zx/5c8_d0d54710lk5c5dvskks40000gn/T/Q2.miao.20210514.190652.061955/output\n",
      "Streaming final output from /var/folders/zx/5c8_d0d54710lk5c5dvskks40000gn/T/Q2.miao.20210514.190652.061955/output...\n",
      "[[2002, \"with\"], [2147, \"that\"], [2513, \"her\"], [3136, \"is\"], [4348, \"in\"], [6096, \"to\"], [7088, \"a\"], [7882, \"of\"], [8705, \"and\"], [13156, \"the\"]]\tnull\n",
      "Removing temp directory /var/folders/zx/5c8_d0d54710lk5c5dvskks40000gn/T/Q2.miao.20210514.190652.061955...\n"
     ]
    }
   ],
   "source": [
    "!python Q2.py desc.tsv"
   ]
  },
  {
   "cell_type": "code",
   "execution_count": null,
   "id": "particular-denial",
   "metadata": {},
   "outputs": [],
   "source": []
  }
 ],
 "metadata": {
  "kernelspec": {
   "display_name": "Python 3",
   "language": "python",
   "name": "python3"
  },
  "language_info": {
   "codemirror_mode": {
    "name": "ipython",
    "version": 3
   },
   "file_extension": ".py",
   "mimetype": "text/x-python",
   "name": "python",
   "nbconvert_exporter": "python",
   "pygments_lexer": "ipython3",
   "version": "3.7.1"
  }
 },
 "nbformat": 4,
 "nbformat_minor": 5
}
